{
 "cells": [
  {
   "cell_type": "markdown",
   "metadata": {},
   "source": [
    "# Description of question:\n",
    "\n",
    "\n",
    "![](images/drawing_book_description.PNG)"
   ]
  },
  {
   "cell_type": "markdown",
   "metadata": {},
   "source": [
    "### Function Description\n",
    "\n",
    "Complete the pageCount function in the editor below.\n",
    "\n",
    "pageCount has the following parameter(s):\n",
    "\n",
    "- int n: the number of pages in the book\n",
    "- int p: the page number to turn to\n",
    "\n",
    "\n",
    "#### Returns\n",
    "\n",
    "int: the minimum number of pages to turn\n",
    "\n",
    "#### Input Format\n",
    "\n",
    "The first line contains an integer n, the number of pages in the book.\n",
    "\n",
    "The second line contains an integer, p, the page to turn to.\n",
    "\n",
    "##### Constraints\n",
    "\n",
    "1 $\\le$ n $\\le$  $10^{5}$\n",
    "\n",
    "1 $\\le$ p $\\le$ n"
   ]
  },
  {
   "cell_type": "markdown",
   "metadata": {},
   "source": [
    "## Approach"
   ]
  },
  {
   "cell_type": "markdown",
   "metadata": {},
   "source": [
    "I found it useful to think of each pair of pages to be in boxes. We know that when a student opens the book from the front, they will always see page 1 on the right side. So we know that page 1 will always be in box #1. It doesn't matter where page **p** is located, whether the right or left of book, since we only care about the number of pages that have to be flipped to get to page **p** . \n",
    "\n",
    "For the example below, we are given that the last page of this book is n = 6 and the page we're interested in reaching is p = 2 (in this case it is in box #2). "
   ]
  },
  {
   "cell_type": "markdown",
   "metadata": {},
   "source": [
    "![](images/drawing_book_part_1of2.PNG)"
   ]
  },
  {
   "cell_type": "markdown",
   "metadata": {},
   "source": [
    "If a student opens the book from the front, she'll flip one page to get to page #2. If she flips the book from the back, it'll take her 2 pages to get to page #2. So the minimum number of pages she'll need to flip is one page.\n",
    "\n",
    "Now let's look at another example. Let's say a student is given that he needs to turn to page 4 in a book that has 5 pages. If he opens the book from the front, he'll need to flip 2 pages, but if he starts from the back, he won't need to flip any pages."
   ]
  },
  {
   "cell_type": "markdown",
   "metadata": {},
   "source": [
    "![](images/drawing_book_part_2of2.PNG)"
   ]
  },
  {
   "cell_type": "markdown",
   "metadata": {},
   "source": [
    "We know that page numbers will always be in the same 'box' (for example pages 2 and 3 will always be in box #2 since page 1 will always be the front page when a student opens from the front). To find out how many pages we need to flip to get to the page asked by the instructor, we can find out the box number where the last page is located (box_number_back), and the box number where the page of interest is found (box_number_page). From here, we can subtract the box number where the page number of interest (p) is found from the box number where the last page (n) is found to give us the number of pages that we'll need to flip. We also subtract 1 from the box number where the page of interest is found to let us know how many pages we need to flip from the front. \n",
    "\n",
    "First, we need to calculate the box numbers:\n",
    "```\n",
    "    box_number_back = n//2 +1\n",
    "    box_number_page = p//2 +1\n",
    "```\n",
    "I don't calculate the box number of page 1 since we know it'll always be in the front, making it be in box #1. \n",
    "\n",
    "Once we subtract the box numbers, we can use the min fuction to return the smallest number between the two differences.\n",
    "\n",
    "**The time complexity of this algorithm is O(1), or constant, since it is just using a math equation to calculate the box numbers, subtracting two numbers, and finding the minimum of these two. It'll always be the same steps, regardless of the size of book** "
   ]
  },
  {
   "cell_type": "markdown",
   "metadata": {},
   "source": [
    "### Final Solution:\n",
    "  \n",
    "\n",
    "```\n",
    "def pageCount(n, p):\n",
    "    box_number_back = n//2 +1\n",
    "    box_number_page = p//2 +1\n",
    "    pages_from_front = box_number_page - 1\n",
    "    pages_from_back = box_number_back - box_number_page\n",
    "    return min((pages_from_front, pages_from_back))\n",
    "```\n",
    "    "
   ]
  }
 ],
 "metadata": {
  "kernelspec": {
   "display_name": "Python 3",
   "language": "python",
   "name": "python3"
  },
  "language_info": {
   "codemirror_mode": {
    "name": "ipython",
    "version": 3
   },
   "file_extension": ".py",
   "mimetype": "text/x-python",
   "name": "python",
   "nbconvert_exporter": "python",
   "pygments_lexer": "ipython3",
   "version": "3.8.5"
  }
 },
 "nbformat": 4,
 "nbformat_minor": 4
}
