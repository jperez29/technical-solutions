{
 "cells": [
  {
   "cell_type": "markdown",
   "metadata": {},
   "source": [
    "# #1 Hash Tables: Ransom Notes"
   ]
  },
  {
   "cell_type": "markdown",
   "metadata": {},
   "source": [
    "![title](images/ransom_notes.PNG)"
   ]
  },
  {
   "cell_type": "markdown",
   "metadata": {},
   "source": [
    "### The goal of this question is to see if we can cut off words from the magazine to be able to rewrite Harold's notes. The words in his note are case-sensitive and he must use only whole words available in the magazine.\n",
    "\n",
    "## Approach\n",
    "\n",
    "Instead of going through both strings using an inner loop to see if any of the letters in the note match in the magazine, I decided to create a dictionary using the magazine to look up words found in the note in this dictionary. The inner loop would have been an O($n^{2}$) time complexity, but the lookup time for dictionaries is O(1).\n",
    "\n",
    "The keys of the dictionary were the words in the magazine and their corresponding values were the number of times the words show up in the magazine. Since the words are case sensitive, we care about the uppercase and lowercase letters in words, and these were different keys in the dictionary. For example, 'two' and 'Two' would be different keys in the dictionary since they have the letter 't' as lowercase and uppercase, respectively. \n",
    "\n",
    "Once I created the dictionary, I looped through the note, and checked if each word was found in the dictionary. If a word in the note was not found in the dictionary, it meant that it was not in the magazine, so I did not need to continue looping through the note. At this point I set my anwer to equal to 'No' since a word was not in the magazine, and I exited the loop. \n",
    "\n",
    "But if the word was in the dictionary, I cared about another scenario. As mentioned earlier, the value of each word was the count of each of them in the dictionary. We care about the number of times that a word shows up in the note. For example, if a word shows up four times, the value of this word in the dictionary should be at least 4, or else we wouldn't have enough counts of this word to rewrite the note. As the loop iterated through the note, if a word was found in the dictionary, the count was reduced by 1 to account for the fact that we already saw this word in the note. I wanted to make sure that if there were any of the same words in the rest of the note, then there would be enough of the counts left in the dictionary. If we came across a word that is found in the dictionary, and the value was equal to zero, then it means that there were no more of this word left in the magazine. In this case, I exited the loop and I set my asnwer to equal to 'No'\n",
    "\n",
    "At the end once the while loop was exited, I printed the answer, which was either 'Yes' or 'No', depending on whether answer was set to 'No' in the while loop.\n",
    "\n",
    "##### Since both loops are O(n), the final time complexity of this algorithm is O(n). \n"
   ]
  },
  {
   "cell_type": "code",
   "execution_count": null,
   "metadata": {},
   "outputs": [],
   "source": [
    "def checkMagazine(magazine, note):\n",
    "    \n",
    "    #creating the dictionary with the count of each word in the magazine\n",
    "    hashmap = {}\n",
    "    for string in magazine:\n",
    "        hashmap[string] = hashmap.get(string,0)+1\n",
    "        \n",
    "    '''Now I'm looping through the note to check if each word is found in the dictionary.\n",
    "    I set my answer to equal to yes at the beginning, which may be changed to 'No'\n",
    "    in the while loop, depending on the scenario\n",
    "    The while loop is exited if found is set to equal to False because it means that a word\n",
    "    is not in the dictionary and when the value of i is less then the length of the note.\n",
    "    Otherwise, it would go on an infinity loop if all words in the note are found in the \n",
    "    dictionary (found will alway be true and i will be constinuosly increased by 1)'''\n",
    "    \n",
    "    i = 0   \n",
    "    found = True\n",
    "    answer = 'Yes'\n",
    "    while found and i < len(note):\n",
    "        string = note[i]\n",
    "        if note[i] in hashmap:\n",
    "            if hashmap[string] == 0:\n",
    "                found = False\n",
    "                answer = 'No'\n",
    "            hashmap[string] -= 1\n",
    "        else:\n",
    "            found = False\n",
    "            answer='No'\n",
    "        i +=1\n",
    "    print(answer)"
   ]
  }
 ],
 "metadata": {
  "kernelspec": {
   "display_name": "Python 3",
   "language": "python",
   "name": "python3"
  },
  "language_info": {
   "codemirror_mode": {
    "name": "ipython",
    "version": 3
   },
   "file_extension": ".py",
   "mimetype": "text/x-python",
   "name": "python",
   "nbconvert_exporter": "python",
   "pygments_lexer": "ipython3",
   "version": "3.8.5"
  }
 },
 "nbformat": 4,
 "nbformat_minor": 4
}
