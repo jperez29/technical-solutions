{
 "cells": [
  {
   "cell_type": "markdown",
   "metadata": {},
   "source": [
    "## #26: Given an integer array nums sorted in non-decreasing order, remove the duplicates in-place such that each unique element appears only once. The relative order of the elements should be kept the same.\n",
    "\n",
    "\n",
    "\n",
    "\n",
    "Since it is impossible to change the length of the array in some languages, you must instead have the result be placed in the first part of the array nums. More formally, if there are k elements after removing the duplicates, then the first k elements of nums should hold the final result. It does not matter what you leave beyond the first k elements.\n",
    "\n",
    "Return k after placing the final result in the first k slots of nums.\n",
    "\n",
    "Do not allocate extra space for another array. You must do this by modifying the input array in-place with O(1) extra memory.\n",
    "\n",
    "Custom Judge:\n",
    "\n",
    "The judge will test your solution with the following code:\n",
    "``` \n",
    "int[] nums = [...]; // Input array\n",
    "int[] expectedNums = [...]; // The expected answer with correct length\n",
    "\n",
    "int k = removeDuplicates(nums); // Calls your implementation\n",
    "\n",
    "assert k == expectedNums.length;\n",
    "for (int i = 0; i < k; i++) {\n",
    "    assert nums[i] == expectedNums[i];\n",
    "}\n",
    "```\n",
    "If all assertions pass, then your solution will be accepted.\n",
    "\n",
    "[Check out question on Leetcode](https://leetcode.com/problems/remove-duplicates-from-sorted-array/)"
   ]
  },
  {
   "cell_type": "markdown",
   "metadata": {},
   "source": [
    "# Approach\n",
    "\n",
    "The key to solving this question is to use a two-pointer approach. Since the list is sorted in non-decreasing order, we know that duplicates are grouped together. \n",
    "\n",
    "![Sorted array example from Leetcode](images/26_leetcode_sorted_array_example.PNG)\n",
    "\n",
    "\n",
    "One of the pointer keeps track of the unique values in the list, and the other pointer keeps track of the current value (this is the for loop)\n",
    "\n",
    "The function is defined as:\n",
    "```\n",
    " def removeDuplicates(self, nums: List[int]) -> int:\n",
    "```\n",
    "where the input of the function is a sorted list and the function returns an integer\n",
    "\n",
    "\n",
    "First I define one of the pointers as unique_pointer, which is the one that keeps track of placement of the unique values. This represents the index where the unique values are placed in the list.\n",
    "I also take care of the case where the list is empty. In this case, we want the function to return 0\n",
    "\n",
    "```    k = 1\n",
    "       unique_pointer = 1\n",
    "       if len(nums) == 0:\n",
    "           return 0\n",
    "```\n",
    "\n",
    "I start k and unique_pointer at 1 since the first number in the list (where the list is non-empty) will always be the first unique value. Therefore, we can assume that we already have a unique value (which is why k=1). We care about whether or not the second number in the list is a unique value, so I set unique_pointer = 1. If the current number is a unique number, then this number will be placed in the unique_pointer index. \n"
   ]
  },
  {
   "cell_type": "markdown",
   "metadata": {},
   "source": [
    "![](images/leetcode26_part_1of4.PNG)\n",
    "\n",
    "Because the element at index 1 in the list equals to the previous number, then we know we do not have a unique value at i = 1. Therefore we can continue iterating through the list until we reach a number different than 1. The unique pointer will be left at index 1 since the first number will always be a unique number. This is the place where the next unique number will be placed.\n",
    "1 is added to k when a unique value is found. "
   ]
  },
  {
   "cell_type": "markdown",
   "metadata": {},
   "source": [
    "![](images/leetcode26_part_2of4.PNG)\n",
    "\n",
    "Now the number at index 2 in the list does not equal to the number in the previous index. Therefore, we have found our next unique number.\n",
    "The unique pointer is pointing to index 1, so we set nums[1] = nums[2]. Now the first two indices are filled with two unique values. The next unique value should now be placed in the second index in the list, so we add one to the unique pointer, bringing us to unique_pointer = 2"
   ]
  },
  {
   "cell_type": "markdown",
   "metadata": {},
   "source": [
    "![](images/leetcode26_part_3of4.PNG)\n",
    "\n",
    "Now we continue iterating through the list. Since the number at the 3rd  index is different than the previous number, we place the next unique value where the unique pointer is pointing to now, which is index 2. So, nums[2] = nums[3]. "
   ]
  },
  {
   "cell_type": "markdown",
   "metadata": {},
   "source": [
    "![](images/leetcode26_part_4of4.PNG)\n",
    "\n",
    "\n",
    "We keep iterating until we find the next unique value to move it to the unique pointer index and until we reach the end of the list."
   ]
  },
  {
   "cell_type": "markdown",
   "metadata": {},
   "source": [
    "## Here's the final solution:"
   ]
  },
  {
   "cell_type": "markdown",
   "metadata": {},
   "source": [
    "```\n",
    "def removeDuplicates(self, nums: List[int]) -> int:\n",
    "    k = 1\n",
    "    unique_pointer = 1\n",
    "    if len(nums) == 0:\n",
    "        return 0\n",
    "    for i in range(1, len(nums)):\n",
    "        if nums[i] != nums[i-1]:\n",
    "            k +=1\n",
    "            nums[unique_pointer] = nums[i]\n",
    "            unique_pointer += 1\n",
    "    return k\n",
    "```"
   ]
  }
 ],
 "metadata": {
  "kernelspec": {
   "display_name": "Python 3",
   "language": "python",
   "name": "python3"
  },
  "language_info": {
   "codemirror_mode": {
    "name": "ipython",
    "version": 3
   },
   "file_extension": ".py",
   "mimetype": "text/x-python",
   "name": "python",
   "nbconvert_exporter": "python",
   "pygments_lexer": "ipython3",
   "version": "3.8.5"
  }
 },
 "nbformat": 4,
 "nbformat_minor": 4
}
